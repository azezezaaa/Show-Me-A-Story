{
  "nbformat": 4,
  "nbformat_minor": 0,
  "metadata": {
    "colab": {
      "provenance": [],
      "collapsed_sections": []
    },
    "kernelspec": {
      "name": "python3",
      "display_name": "Python 3"
    },
    "language_info": {
      "name": "python"
    },
    "accelerator": "GPU",
    "gpuClass": "standard"
  },
  "cells": [
    {
      "cell_type": "code",
      "source": [
        "!pip install gradio transformers"
      ],
      "metadata": {
        "id": "5PSxFjIiiXsV"
      },
      "execution_count": null,
      "outputs": []
    },
    {
      "cell_type": "code",
      "source": [
        "import gradio as gr\n",
        "from transformers import pipeline\n",
        "import requests\n",
        "import urllib.request\n",
        "import numpy as np\n",
        "import nltk\n",
        "nltk.download('punkt')\n",
        "from nltk import tokenize\n",
        "from PIL import Image, ImageDraw, ImageFont\n",
        "\n",
        "\n",
        "generator = pipeline('text-generation', model='gpt2-large')\n",
        "url = \"https://api.newnative.ai/stable-diffusion?prompt=A digital illustration of story with fantasy and magic. \"\n",
        "allStory = []\n",
        "story = \"\"\n",
        "allStory=\"\"\n",
        "\n",
        "def generateStory(generator, url, story, allStory):\n",
        "    story = allStory\n",
        "    if story != \"\":\n",
        "        story = story\n",
        "        \n",
        "    if (allStory == \"\"):\n",
        "        allStory = generator(\"Once upon a time there was a \")\n",
        "    else:\n",
        "        allStory = generator(allStory) \n",
        "\n",
        "    allStory = allStory[0]['generated_text']\n",
        "\n",
        "    return story, allStory\n",
        "\n",
        "\n",
        "def generateImage(url, story, allStory):\n",
        "    story, allStory = generateStory(generator, url, story, allStory)\n",
        "    a = tokenize.sent_tokenize(allStory)\n",
        "    b = tokenize.sent_tokenize(story)\n",
        "    text = np.setdiff1d(a, b)\n",
        "    text = text.tolist()\n",
        "    text = ' '.join(text[::-1])\n",
        "\n",
        "    url = url + text\n",
        "    response = requests.request(\"GET\", url)\n",
        "    data = response.json()\n",
        "    imgUrl = data[\"image_url\"]\n",
        "    img_file = urllib.request.urlretrieve(data[\"image_url\"], \"/content/local-filename.jpg\")\n",
        "\n",
        "\n",
        "#    img, imgfile = generateImage(url, story, allStory)\n",
        "    img = generateImage(url, story, allStory)\n",
        "\n",
        "    image = Image.open(img)\n",
        "    W, H = 512, 512\n",
        "    draw = ImageDraw.Draw(image)\n",
        "    _, _, w, h = draw.textbbox((0, 0), allStory,)\n",
        "    draw.text(((W-w)/2, (H-h)/2), allStory)\n",
        "\n",
        "    return draw\n",
        "\n",
        "# create the gradio UI\n",
        "# set precision to 0 to round value to nearest int\n",
        "demo = gr.Interface(\n",
        "    fn=generateImage,\n",
        "    inputs=[url, story, allStory],\n",
        "    outputs = \"image\"\n",
        "    )\n",
        "\n",
        "# allow queueing or incoming requests, max=3 \n",
        "#demo.queue(concurrency_count=3)\n",
        "#demo = gr.Interface(generateStory(generator, url, story, allStory), gr.Image(shape=(512, 512)), \"image\")\n",
        "\n",
        "# launch demo\n",
        "demo.launch(debug=True)"
      ],
      "metadata": {
        "id": "7nEokRbUiYE8"
      },
      "execution_count": null,
      "outputs": []
    }
  ]
}